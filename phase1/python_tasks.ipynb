{
  "nbformat": 4,
  "nbformat_minor": 0,
  "metadata": {
    "colab": {
      "provenance": []
    },
    "kernelspec": {
      "name": "python3",
      "display_name": "Python 3"
    },
    "language_info": {
      "name": "python"
    }
  },
  "cells": [
    {
      "cell_type": "markdown",
      "source": [
        "task 1"
      ],
      "metadata": {
        "id": "mnk1oZLvSGln"
      }
    },
    {
      "cell_type": "code",
      "execution_count": null,
      "metadata": {
        "colab": {
          "base_uri": "https://localhost:8080/"
        },
        "id": "xuWw8JkhSFuE",
        "outputId": "e566b825-0c3e-40c0-e663-3311e95fbce6"
      },
      "outputs": [
        {
          "output_type": "stream",
          "name": "stdout",
          "text": [
            "<class 'str'>\n",
            "<class 'int'>\n",
            "<class 'float'>\n",
            "<class 'int'>\n",
            "<class 'bool'>\n"
          ]
        }
      ],
      "source": [
        "name = \"Minahil Umar\"\n",
        "roll_no = 1234\n",
        "height = 5.3\n",
        "age = 21\n",
        "is_graduate = False\n",
        "print(type(name))\n",
        "print(type(roll_no))\n",
        "print(type(height))\n",
        "print(type(age))\n",
        "print(type(is_graduate))"
      ]
    },
    {
      "cell_type": "markdown",
      "source": [
        "task 3\n",
        "\n"
      ],
      "metadata": {
        "id": "toSDvI2sVC1I"
      }
    },
    {
      "cell_type": "code",
      "source": [
        "# for loop\n",
        "for x in range(1,21):\n",
        "  if x % 2 == 0:\n",
        "    print(x)\n",
        "\n",
        "#while loop\n",
        "num = 1\n",
        "while num <= 20:\n",
        "  if num%2 == 0:\n",
        "    print(num)\n",
        "  num+=1"
      ],
      "metadata": {
        "colab": {
          "base_uri": "https://localhost:8080/"
        },
        "id": "_NSlmzifVGER",
        "outputId": "e90f8844-0401-40c8-f23b-cf9a2438f28f"
      },
      "execution_count": null,
      "outputs": [
        {
          "output_type": "stream",
          "name": "stdout",
          "text": [
            "2\n",
            "4\n",
            "6\n",
            "8\n",
            "10\n",
            "12\n",
            "14\n",
            "16\n",
            "18\n",
            "20\n",
            "2\n",
            "4\n",
            "6\n",
            "8\n",
            "10\n",
            "12\n",
            "14\n",
            "16\n",
            "18\n",
            "20\n"
          ]
        }
      ]
    },
    {
      "cell_type": "markdown",
      "source": [
        "task 2\n"
      ],
      "metadata": {
        "id": "3JB3Sgq4V8Q0"
      }
    },
    {
      "cell_type": "code",
      "source": [
        "# voting\n",
        "age = int(input(\"Enter your age: \"))\n",
        "if age > 18:\n",
        "  print(\"You can vote.\")\n",
        "elif age == 18:\n",
        "  print(\"Turned 18\")\n",
        "else:\n",
        "  print(\"You cannot vote\")"
      ],
      "metadata": {
        "colab": {
          "base_uri": "https://localhost:8080/"
        },
        "id": "fUhhtuBdV9Sl",
        "outputId": "4a31ef11-e3a6-4d5d-a99b-f9150d250257"
      },
      "execution_count": null,
      "outputs": [
        {
          "output_type": "stream",
          "name": "stdout",
          "text": [
            "Enter your age: 23\n",
            "You can vote.\n"
          ]
        }
      ]
    },
    {
      "cell_type": "markdown",
      "source": [
        "task 4\n"
      ],
      "metadata": {
        "id": "9r5-8oUiWk3m"
      }
    },
    {
      "cell_type": "code",
      "source": [
        "#factorial\n",
        "num = int(input(\"Enter number: \"))\n",
        "factorial = 1\n",
        "\n",
        "for i in range(1, num + 1):\n",
        "    factorial *= i\n",
        "\n",
        "print(f\"The factorial of {num} is {factorial}\")\n"
      ],
      "metadata": {
        "colab": {
          "base_uri": "https://localhost:8080/"
        },
        "id": "IzPgm8yZWl2o",
        "outputId": "29dd556a-fcf9-4335-a687-1631d07b51d3"
      },
      "execution_count": null,
      "outputs": [
        {
          "output_type": "stream",
          "name": "stdout",
          "text": [
            "Enter number: 5\n",
            "The factorial of 5 is 120\n"
          ]
        }
      ]
    },
    {
      "cell_type": "markdown",
      "source": [
        "task 5"
      ],
      "metadata": {
        "id": "FmesLRAwW7mc"
      }
    },
    {
      "cell_type": "code",
      "source": [
        "# OOP class\n",
        "class BankAccount:\n",
        "    def __init__(self, name):\n",
        "        self.name = name\n",
        "        self.balance = 0\n",
        "\n",
        "    def deposit(self, amount):\n",
        "        if amount > 0:\n",
        "            self.balance += amount\n",
        "            print(f\"{amount} added. New balance: {self.balance}\")\n",
        "\n",
        "    def withdraw(self, amount):\n",
        "        if amount <= self.balance:\n",
        "            self.balance = self.balance - amount\n",
        "            print(f\"{amount} withdrawn. New balance: {self.balance}\")\n",
        "        else:\n",
        "            print(\"Not enough money in the account.\")\n",
        "\n",
        "    def check_balance(self):\n",
        "        print(f\"{self.name}'s balance is: {self.balance}\")\n"
      ],
      "metadata": {
        "id": "oiU7TdCXYtTe"
      },
      "execution_count": null,
      "outputs": []
    },
    {
      "cell_type": "markdown",
      "source": [
        "task 6"
      ],
      "metadata": {
        "id": "1WCpSbHBY0kz"
      }
    },
    {
      "cell_type": "code",
      "source": [
        "#txt\n",
        "with open(\"myfile.txt\", \"w\") as file:\n",
        "    file.write(\" Hello\\n\")\n",
        "    file.write(\" This is Python\\n\")\n",
        "    file.write(\" Writing to a file\\n\")\n",
        "    file.write(\" Learning is fun\\n\")\n",
        "    file.write(\"Goodbye!\\n\")\n",
        "\n",
        "with open(\"myfile.txt\", \"r\") as file:\n",
        "    for line in file:\n",
        "        print(line.strip())\n",
        "\n",
        "#csv\n",
        "import csv\n",
        "data = [\n",
        "    [\"Name\", \"Age\"],\n",
        "    [\"Minahil\", 21],\n",
        "    [\"Ali\", 20],\n",
        "    [\"Hanan\", 22]\n",
        "]\n",
        "with open(\"people.csv\", \"w\", newline=\"\") as file:\n",
        "    writer = csv.writer(file)\n",
        "    writer.writerows(data)\n",
        "with open(\"people.csv\", \"r\") as file:\n",
        "    reader = csv.reader(file)\n",
        "    for row in reader:\n",
        "        print(row)\n",
        "\n",
        "#json\n",
        "import json\n",
        "data = {\n",
        "    \"name\": \"Minahil\",\n",
        "    \"age\": 21,\n",
        "    \"is_student\": True\n",
        "}\n",
        "with open(\"data.json\", \"w\") as f:\n",
        "    json.dump(data, f)\n",
        "with open(\"data.json\", \"r\") as f:\n",
        "    content = json.load(f)\n",
        "    print(content)"
      ],
      "metadata": {
        "colab": {
          "base_uri": "https://localhost:8080/"
        },
        "id": "55M-p66eY1qR",
        "outputId": "5f1856ac-d3c2-4725-daaa-cbd893819b58"
      },
      "execution_count": null,
      "outputs": [
        {
          "output_type": "stream",
          "name": "stdout",
          "text": [
            "Hello\n",
            "This is Python\n",
            "Writing to a file\n",
            "Learning is fun\n",
            "Goodbye!\n",
            "['Name', 'Age']\n",
            "['Minahil', '21']\n",
            "['Ali', '20']\n",
            "['Hanan', '22']\n",
            "{'name': 'Minahil', 'age': 21, 'is_student': True}\n"
          ]
        }
      ]
    },
    {
      "cell_type": "markdown",
      "source": [
        "task 7"
      ],
      "metadata": {
        "id": "lfUmrz6tZuQe"
      }
    },
    {
      "cell_type": "code",
      "source": [
        "# exception\n",
        "try:\n",
        "    num1 = 1\n",
        "    num2 = 0\n",
        "    result = num1 / num2\n",
        "    print(result)\n",
        "\n",
        "except ZeroDivisionError:\n",
        "    print(\"undefined\")\n",
        "\n",
        "finally:\n",
        "    print(\"program finished\")\n"
      ],
      "metadata": {
        "colab": {
          "base_uri": "https://localhost:8080/"
        },
        "id": "mKmnkh2JZvZa",
        "outputId": "a5d17b85-b6e3-4573-f334-27e75f24b240"
      },
      "execution_count": null,
      "outputs": [
        {
          "output_type": "stream",
          "name": "stdout",
          "text": [
            "undefined\n",
            "program finished\n"
          ]
        }
      ]
    },
    {
      "cell_type": "markdown",
      "source": [
        "task 8\n"
      ],
      "metadata": {
        "id": "ZpJG8iIabQ_N"
      }
    },
    {
      "cell_type": "code",
      "source": [
        "#virtual env\n",
        "%%writefile utils.py\n",
        "\n",
        "def square(x):\n",
        "    return x * x\n"
      ],
      "metadata": {
        "colab": {
          "base_uri": "https://localhost:8080/"
        },
        "id": "Zdx6ffYcbTH5",
        "outputId": "9e20a452-f858-41da-ce65-a0f02fbdf419"
      },
      "execution_count": null,
      "outputs": [
        {
          "output_type": "stream",
          "name": "stdout",
          "text": [
            "Writing utils.py\n"
          ]
        }
      ]
    },
    {
      "cell_type": "code",
      "source": [
        "from utils import square\n",
        "\n",
        "print(\"Square of 6 is:\", square(6))\n"
      ],
      "metadata": {
        "colab": {
          "base_uri": "https://localhost:8080/"
        },
        "id": "JEfNCvk9inOC",
        "outputId": "af4204b8-b057-4e84-8459-fa936f7d33be"
      },
      "execution_count": null,
      "outputs": [
        {
          "output_type": "stream",
          "name": "stdout",
          "text": [
            "Square of 6 is: 36\n"
          ]
        }
      ]
    },
    {
      "cell_type": "markdown",
      "source": [
        "task 9\n"
      ],
      "metadata": {
        "id": "h4DnxP2ii0xd"
      }
    },
    {
      "cell_type": "code",
      "source": [
        "#list\n",
        "student = [\"Minah\",\"Ali\",\"Javeria\",\"Sana\"]\n",
        "print(type(student))\n",
        "\n",
        "#dictionary\n",
        "students = {\n",
        "    \"minahil\" : \"56\",\n",
        "    \"class\" : \"AI\",\n",
        "    \"age\" : \"78\"\n",
        "}\n",
        "print(\"Minahil's marks:\", students[\"minahil\"])\n"
      ],
      "metadata": {
        "colab": {
          "base_uri": "https://localhost:8080/"
        },
        "id": "Ye-scu6ei2jC",
        "outputId": "2a0d3c4b-1c95-46f4-f9b8-3d77ef33740d"
      },
      "execution_count": null,
      "outputs": [
        {
          "output_type": "stream",
          "name": "stdout",
          "text": [
            "<class 'list'>\n",
            "Minahil's marks: 56\n"
          ]
        }
      ]
    },
    {
      "cell_type": "markdown",
      "source": [
        "task 10"
      ],
      "metadata": {
        "id": "Nvu5pBSTkLpS"
      }
    },
    {
      "cell_type": "code",
      "source": [
        "#dictionary using comprehension\n",
        "squares = [x**2 for x in range(1,11)]\n",
        "print (squares)"
      ],
      "metadata": {
        "colab": {
          "base_uri": "https://localhost:8080/"
        },
        "id": "F2DccL7KkN6X",
        "outputId": "86183cef-9720-4009-e7b6-d83fefd9ef2e"
      },
      "execution_count": null,
      "outputs": [
        {
          "output_type": "stream",
          "name": "stdout",
          "text": [
            "[1, 4, 9, 16, 25, 36, 49, 64, 81, 100]\n"
          ]
        }
      ]
    },
    {
      "cell_type": "markdown",
      "source": [
        "task 11"
      ],
      "metadata": {
        "id": "ASI7nhPtqIUX"
      }
    },
    {
      "cell_type": "code",
      "source": [
        "def even_numbers():\n",
        "    for i in range(1, 11):\n",
        "        if i % 2 == 0:\n",
        "            yield i\n",
        "for num in even_numbers():\n",
        "    print(num)\n",
        "\n",
        "\n"
      ],
      "metadata": {
        "colab": {
          "base_uri": "https://localhost:8080/"
        },
        "id": "PG7pspJ8qK3v",
        "outputId": "91eb8583-3d7e-4380-9396-6495a0faf1d0"
      },
      "execution_count": null,
      "outputs": [
        {
          "output_type": "stream",
          "name": "stdout",
          "text": [
            "2\n",
            "4\n",
            "6\n",
            "8\n",
            "10\n"
          ]
        }
      ]
    },
    {
      "cell_type": "markdown",
      "source": [
        "task 12"
      ],
      "metadata": {
        "id": "hsI9gQczryhM"
      }
    },
    {
      "cell_type": "code",
      "source": [
        "#map\n",
        "numbers = [1, 2, 3, 4, 5]\n",
        "squared = list(map(lambda x: x**2, numbers))\n",
        "print(\"Squares:\", squared)\n",
        "\n",
        "#filters\n",
        "numbers = [1, 2, 3, 4, 5, 6]\n",
        "evens = list(filter(lambda x: x % 2 == 0, numbers))\n",
        "print(\"Even numbers:\", evens)\n",
        "\n",
        "#reduce\n",
        "from functools import reduce\n",
        "numbers = [1, 2, 3, 4]\n",
        "product = reduce(lambda x, y: x * y, numbers)\n",
        "print(\"Product:\", product)\n"
      ],
      "metadata": {
        "colab": {
          "base_uri": "https://localhost:8080/"
        },
        "id": "XTp52-EMrzc4",
        "outputId": "1fc58185-9b9e-40c0-ccfc-2b3442fb4126"
      },
      "execution_count": null,
      "outputs": [
        {
          "output_type": "stream",
          "name": "stdout",
          "text": [
            "Squares: [1, 4, 9, 16, 25]\n",
            "Even numbers: [2, 4, 6]\n",
            "Product: 24\n"
          ]
        }
      ]
    }
  ]
}